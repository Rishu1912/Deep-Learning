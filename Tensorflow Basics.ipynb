{
  "nbformat": 4,
  "nbformat_minor": 0,
  "metadata": {
    "colab": {
      "provenance": []
    },
    "kernelspec": {
      "name": "python3",
      "display_name": "Python 3"
    },
    "language_info": {
      "name": "python"
    }
  },
  "cells": [
    {
      "cell_type": "code",
      "source": [
        "# Tensors are multi-dimensional arrays\n",
        "# 0D arrays = 0D tensors similarly all...\n",
        "# 1D tensors is combination of 0D tensors\n",
        "# 2D is of 1D AND 3D is of 2D...\n",
        "# To determine shape, just move in reverse way...\n",
        "# No of 2D tensors in 3D tensor...1D in a 2D tensor and 0D in 1d Tensors"
      ],
      "metadata": {
        "id": "g33NINpBrI_n"
      },
      "execution_count": 1,
      "outputs": []
    },
    {
      "cell_type": "code",
      "execution_count": 2,
      "metadata": {
        "id": "2ch7q1TTrA1W"
      },
      "outputs": [],
      "source": [
        "import tensorflow as tf\n"
      ]
    },
    {
      "cell_type": "code",
      "source": [
        "tensor_zero_dim = tf.constant(4)\n",
        "print(tensor_zero_dim)"
      ],
      "metadata": {
        "colab": {
          "base_uri": "https://localhost:8080/"
        },
        "id": "uiKP9Ys_rLFb",
        "outputId": "3477a47a-7b51-4614-cd6f-c4687b63af01"
      },
      "execution_count": 3,
      "outputs": [
        {
          "output_type": "stream",
          "name": "stdout",
          "text": [
            "tf.Tensor(4, shape=(), dtype=int32)\n"
          ]
        }
      ]
    },
    {
      "cell_type": "code",
      "source": [
        "tensor_one_dim = tf.constant([2,0,-3])\n",
        "print(tensor_one_dim)\n",
        "# if one given is float...it will consider all as float"
      ],
      "metadata": {
        "colab": {
          "base_uri": "https://localhost:8080/"
        },
        "id": "_DekSGdQrS2W",
        "outputId": "479404fc-318f-4f6a-c132-8c795c20c1d5"
      },
      "execution_count": 4,
      "outputs": [
        {
          "output_type": "stream",
          "name": "stdout",
          "text": [
            "tf.Tensor([ 2  0 -3], shape=(3,), dtype=int32)\n"
          ]
        }
      ]
    },
    {
      "cell_type": "code",
      "source": [
        "tensor_two_dim = tf.constant([[1,2,3],\n",
        "                              [4,5,6],\n",
        "                              [7,8,9]\n",
        "                        ])\n",
        "print(tensor_two_dim)"
      ],
      "metadata": {
        "colab": {
          "base_uri": "https://localhost:8080/"
        },
        "id": "zhML29MLrbMV",
        "outputId": "070575ab-91ff-4ce7-d304-80c246d22404"
      },
      "execution_count": 5,
      "outputs": [
        {
          "output_type": "stream",
          "name": "stdout",
          "text": [
            "tf.Tensor(\n",
            "[[1 2 3]\n",
            " [4 5 6]\n",
            " [7 8 9]], shape=(3, 3), dtype=int32)\n"
          ]
        }
      ]
    },
    {
      "cell_type": "code",
      "source": [
        "tensor_three_dim = tf.constant([[ [1,2,3], [4,5,6],  [7,8,9] ],\n",
        "                              [[11,12,13], [14,15,16],  [17,18,19]]])\n",
        "print(tensor_three_dim)\n",
        "# For 4D tensor...uhh need many 3D tensors..."
      ],
      "metadata": {
        "colab": {
          "base_uri": "https://localhost:8080/"
        },
        "id": "WxaTLtJ1rbw6",
        "outputId": "70a347ac-8d3e-4b37-9577-d5e49b58e198"
      },
      "execution_count": 6,
      "outputs": [
        {
          "output_type": "stream",
          "name": "stdout",
          "text": [
            "tf.Tensor(\n",
            "[[[ 1  2  3]\n",
            "  [ 4  5  6]\n",
            "  [ 7  8  9]]\n",
            "\n",
            " [[11 12 13]\n",
            "  [14 15 16]\n",
            "  [17 18 19]]], shape=(2, 3, 3), dtype=int32)\n"
          ]
        }
      ]
    },
    {
      "cell_type": "code",
      "source": [
        "# SHAPES OF TENSORS\n",
        "print(tensor_zero_dim.shape)\n",
        "print(tensor_one_dim.shape)\n",
        "print(tensor_two_dim.shape)\n",
        "print(tensor_three_dim.shape)"
      ],
      "metadata": {
        "colab": {
          "base_uri": "https://localhost:8080/"
        },
        "id": "6GF9ujobrcGX",
        "outputId": "6530581d-bda8-4d32-e986-9a81d1ba7f5e"
      },
      "execution_count": 7,
      "outputs": [
        {
          "output_type": "stream",
          "name": "stdout",
          "text": [
            "()\n",
            "(3,)\n",
            "(3, 3)\n",
            "(2, 3, 3)\n"
          ]
        }
      ]
    },
    {
      "cell_type": "code",
      "source": [
        "# DATATYPES\n",
        "tensor_one_dim = tf.constant([2,0,-3] , dtype=tf.float32)\n",
        "print(tensor_one_dim)"
      ],
      "metadata": {
        "colab": {
          "base_uri": "https://localhost:8080/"
        },
        "id": "3-TiDOEVrcKK",
        "outputId": "6db4703a-5618-4806-ab44-1ea528618620"
      },
      "execution_count": 8,
      "outputs": [
        {
          "output_type": "stream",
          "name": "stdout",
          "text": [
            "tf.Tensor([ 2.  0. -3.], shape=(3,), dtype=float32)\n"
          ]
        }
      ]
    },
    {
      "cell_type": "code",
      "source": [
        "# CASTING\n",
        "tensor_one_dim = tf.constant([2,0,-3] , dtype=tf.float32)\n",
        "casted_tensor_one_dim = tf.cast(tensor_one_dim,dtype=tf.int64)\n",
        "print(tensor_one_dim)\n",
        "print(casted_tensor_one_dim)"
      ],
      "metadata": {
        "colab": {
          "base_uri": "https://localhost:8080/"
        },
        "id": "Hy7iQYzarcNI",
        "outputId": "a9f856b9-3840-4e67-caa3-5b673cf5b893"
      },
      "execution_count": 9,
      "outputs": [
        {
          "output_type": "stream",
          "name": "stdout",
          "text": [
            "tf.Tensor([ 2.  0. -3.], shape=(3,), dtype=float32)\n",
            "tf.Tensor([ 2  0 -3], shape=(3,), dtype=int64)\n"
          ]
        }
      ]
    },
    {
      "cell_type": "code",
      "source": [
        "casted_tensor_one_dim = tf.cast(tensor_one_dim,dtype=tf.bool)\n",
        "print(tensor_one_dim)\n",
        "print(casted_tensor_one_dim)"
      ],
      "metadata": {
        "colab": {
          "base_uri": "https://localhost:8080/"
        },
        "id": "8DZo9JWasLRY",
        "outputId": "9ab758e8-d2f3-4b49-d522-a135ea542970"
      },
      "execution_count": 10,
      "outputs": [
        {
          "output_type": "stream",
          "name": "stdout",
          "text": [
            "tf.Tensor([ 2.  0. -3.], shape=(3,), dtype=float32)\n",
            "tf.Tensor([ True False  True], shape=(3,), dtype=bool)\n"
          ]
        }
      ]
    },
    {
      "cell_type": "code",
      "source": [
        "tensor_bool = tf.constant([True,True,False])\n",
        "print(tensor_bool)"
      ],
      "metadata": {
        "colab": {
          "base_uri": "https://localhost:8080/"
        },
        "id": "gXea62p-tFg5",
        "outputId": "90972679-585f-4cf5-f94a-a722f3ed4241"
      },
      "execution_count": 11,
      "outputs": [
        {
          "output_type": "stream",
          "name": "stdout",
          "text": [
            "tf.Tensor([ True  True False], shape=(3,), dtype=bool)\n"
          ]
        }
      ]
    },
    {
      "cell_type": "code",
      "source": [
        "tensor_string = tf.constant([\"Hello\",\"World\"])\n",
        "print(tensor_string)"
      ],
      "metadata": {
        "colab": {
          "base_uri": "https://localhost:8080/"
        },
        "id": "f1ka36xTtTn8",
        "outputId": "cc6d8dff-cbb9-49e5-f9fc-2aaa1a3f8dae"
      },
      "execution_count": 12,
      "outputs": [
        {
          "output_type": "stream",
          "name": "stdout",
          "text": [
            "tf.Tensor([b'Hello' b'World'], shape=(2,), dtype=string)\n"
          ]
        }
      ]
    },
    {
      "cell_type": "code",
      "source": [
        "import numpy as np\n",
        "np_array = np.array([1,2,4])\n",
        "print(np_array)"
      ],
      "metadata": {
        "colab": {
          "base_uri": "https://localhost:8080/"
        },
        "id": "ytf3k5Bxthdr",
        "outputId": "73e537e7-2bf4-4605-8751-f9ca209a8391"
      },
      "execution_count": 13,
      "outputs": [
        {
          "output_type": "stream",
          "name": "stdout",
          "text": [
            "[1 2 4]\n"
          ]
        }
      ]
    },
    {
      "cell_type": "code",
      "source": [
        "converted_tensor = tf.convert_to_tensor(np_array)\n",
        "print(converted_tensor)"
      ],
      "metadata": {
        "colab": {
          "base_uri": "https://localhost:8080/"
        },
        "id": "l-baTx3vt0M9",
        "outputId": "8c666781-7a57-426e-993c-73159080aedb"
      },
      "execution_count": 14,
      "outputs": [
        {
          "output_type": "stream",
          "name": "stdout",
          "text": [
            "tf.Tensor([1 2 4], shape=(3,), dtype=int64)\n"
          ]
        }
      ]
    },
    {
      "cell_type": "code",
      "source": [
        "eye_tensor = tf.eye(\n",
        "    num_rows = 3,\n",
        "    num_columns = None,\n",
        "    batch_shape = None,\n",
        "    dtype = tf.float32,\n",
        "    name = None\n",
        ")\n",
        "print(eye_tensor)\n",
        "# no of cols automatically  became 3...\n",
        "# we can keep different no of rows n cols also..."
      ],
      "metadata": {
        "colab": {
          "base_uri": "https://localhost:8080/"
        },
        "id": "iyRtk1Ukt9ZG",
        "outputId": "8b5aff2b-89e1-4d49-90e7-ca428e3f42d7"
      },
      "execution_count": 15,
      "outputs": [
        {
          "output_type": "stream",
          "name": "stdout",
          "text": [
            "tf.Tensor(\n",
            "[[1. 0. 0.]\n",
            " [0. 1. 0.]\n",
            " [0. 0. 1.]], shape=(3, 3), dtype=float32)\n"
          ]
        }
      ]
    },
    {
      "cell_type": "code",
      "source": [
        "print(3*eye_tensor)"
      ],
      "metadata": {
        "colab": {
          "base_uri": "https://localhost:8080/"
        },
        "id": "kx14NiR2vSbM",
        "outputId": "56e87b79-e1fb-4c00-bb04-7f1a56d11acf"
      },
      "execution_count": 16,
      "outputs": [
        {
          "output_type": "stream",
          "name": "stdout",
          "text": [
            "tf.Tensor(\n",
            "[[3. 0. 0.]\n",
            " [0. 3. 0.]\n",
            " [0. 0. 3.]], shape=(3, 3), dtype=float32)\n"
          ]
        }
      ]
    },
    {
      "cell_type": "code",
      "source": [
        "eye_tensor_1 = tf.eye(\n",
        "    num_rows = 3,\n",
        "    num_columns = 5,\n",
        "    batch_shape = None,\n",
        "    dtype = tf.float32,\n",
        "    name = None\n",
        ")\n",
        "print(eye_tensor_1)"
      ],
      "metadata": {
        "colab": {
          "base_uri": "https://localhost:8080/"
        },
        "id": "fNJJQTkcvfx6",
        "outputId": "de6db33e-93e8-44a1-8c5e-fb17cf45b0e6"
      },
      "execution_count": 17,
      "outputs": [
        {
          "output_type": "stream",
          "name": "stdout",
          "text": [
            "tf.Tensor(\n",
            "[[1. 0. 0. 0. 0.]\n",
            " [0. 1. 0. 0. 0.]\n",
            " [0. 0. 1. 0. 0.]], shape=(3, 5), dtype=float32)\n"
          ]
        }
      ]
    },
    {
      "cell_type": "code",
      "source": [
        "eye_tensor_2 = tf.eye(\n",
        "    num_rows = 3,\n",
        "    num_columns = None,\n",
        "    batch_shape = [2,],\n",
        "    dtype = tf.float32,\n",
        "    name = None\n",
        ")\n",
        "print(eye_tensor_2)\n",
        "# batch shapes basically used for more than 2D...if we give 2,4...\n",
        "# then shape = (2,4,3,3)...4D matrix"
      ],
      "metadata": {
        "colab": {
          "base_uri": "https://localhost:8080/"
        },
        "id": "FCtQXduhwQeD",
        "outputId": "47d471cc-ef46-4d48-893c-ccd8b051147a"
      },
      "execution_count": 18,
      "outputs": [
        {
          "output_type": "stream",
          "name": "stdout",
          "text": [
            "tf.Tensor(\n",
            "[[[1. 0. 0.]\n",
            "  [0. 1. 0.]\n",
            "  [0. 0. 1.]]\n",
            "\n",
            " [[1. 0. 0.]\n",
            "  [0. 1. 0.]\n",
            "  [0. 0. 1.]]], shape=(2, 3, 3), dtype=float32)\n"
          ]
        }
      ]
    },
    {
      "cell_type": "code",
      "source": [
        "fill_tensor = tf.fill(\n",
        "    [3,4],5,name=None\n",
        ")\n",
        "print(fill_tensor)"
      ],
      "metadata": {
        "colab": {
          "base_uri": "https://localhost:8080/"
        },
        "id": "lQrjuhk-wXsH",
        "outputId": "d18cbc73-2324-4e8d-8365-f7b2821cd11d"
      },
      "execution_count": 19,
      "outputs": [
        {
          "output_type": "stream",
          "name": "stdout",
          "text": [
            "tf.Tensor(\n",
            "[[5 5 5 5]\n",
            " [5 5 5 5]\n",
            " [5 5 5 5]], shape=(3, 4), dtype=int32)\n"
          ]
        }
      ]
    },
    {
      "cell_type": "code",
      "source": [
        "ones_tensor = tf.ones(\n",
        "    [2,3,5],tf.float32,name=None\n",
        ")\n",
        "print(ones_tensor)"
      ],
      "metadata": {
        "colab": {
          "base_uri": "https://localhost:8080/"
        },
        "id": "ADeM-RcZxtHO",
        "outputId": "9c481bfe-0ce2-406d-e1b0-ea76f2a649bc"
      },
      "execution_count": 20,
      "outputs": [
        {
          "output_type": "stream",
          "name": "stdout",
          "text": [
            "tf.Tensor(\n",
            "[[[1. 1. 1. 1. 1.]\n",
            "  [1. 1. 1. 1. 1.]\n",
            "  [1. 1. 1. 1. 1.]]\n",
            "\n",
            " [[1. 1. 1. 1. 1.]\n",
            "  [1. 1. 1. 1. 1.]\n",
            "  [1. 1. 1. 1. 1.]]], shape=(2, 3, 5), dtype=float32)\n"
          ]
        }
      ]
    },
    {
      "cell_type": "code",
      "source": [
        "# ones_like => tensor with 1s with same shape as original tensor\n",
        "ones_like_tensor = tf.ones_like(\n",
        "    fill_tensor,tf.float64\n",
        ")\n",
        "print(ones_like_tensor)"
      ],
      "metadata": {
        "colab": {
          "base_uri": "https://localhost:8080/"
        },
        "id": "r1FITXbrx8s_",
        "outputId": "a501e626-31fe-4330-dcd4-44d4287c10cd"
      },
      "execution_count": 21,
      "outputs": [
        {
          "output_type": "stream",
          "name": "stdout",
          "text": [
            "tf.Tensor(\n",
            "[[1. 1. 1. 1.]\n",
            " [1. 1. 1. 1.]\n",
            " [1. 1. 1. 1.]], shape=(3, 4), dtype=float64)\n"
          ]
        }
      ]
    },
    {
      "cell_type": "code",
      "source": [
        "zeros_tensor = tf.zeros(\n",
        "    [2,3,5],tf.float32,name=None\n",
        ")\n",
        "print(zeros_tensor)"
      ],
      "metadata": {
        "colab": {
          "base_uri": "https://localhost:8080/"
        },
        "id": "H1Bul66VynkJ",
        "outputId": "55f5b627-4254-434d-99d1-8fed1b294c2b"
      },
      "execution_count": 22,
      "outputs": [
        {
          "output_type": "stream",
          "name": "stdout",
          "text": [
            "tf.Tensor(\n",
            "[[[0. 0. 0. 0. 0.]\n",
            "  [0. 0. 0. 0. 0.]\n",
            "  [0. 0. 0. 0. 0.]]\n",
            "\n",
            " [[0. 0. 0. 0. 0.]\n",
            "  [0. 0. 0. 0. 0.]\n",
            "  [0. 0. 0. 0. 0.]]], shape=(2, 3, 5), dtype=float32)\n"
          ]
        }
      ]
    },
    {
      "cell_type": "code",
      "source": [
        "rank_tensor = tf.constant([[1,2,3],[4,5,6]])\n",
        "print(tf.rank(rank_tensor))"
      ],
      "metadata": {
        "colab": {
          "base_uri": "https://localhost:8080/"
        },
        "id": "2OOkyN7ky5Gl",
        "outputId": "77362b81-65dd-46de-c3ac-5c3f1f5692e1"
      },
      "execution_count": 23,
      "outputs": [
        {
          "output_type": "stream",
          "name": "stdout",
          "text": [
            "tf.Tensor(2, shape=(), dtype=int32)\n"
          ]
        }
      ]
    },
    {
      "cell_type": "code",
      "source": [
        "size_tensor = tf.constant([[1,2,3],[4,5,6]])\n",
        "print(tf.size(size_tensor))"
      ],
      "metadata": {
        "colab": {
          "base_uri": "https://localhost:8080/"
        },
        "id": "vGG8d0e3zyDt",
        "outputId": "24ae5c7c-a7e7-4591-ed62-f3ce3cacee51"
      },
      "execution_count": 24,
      "outputs": [
        {
          "output_type": "stream",
          "name": "stdout",
          "text": [
            "tf.Tensor(6, shape=(), dtype=int32)\n"
          ]
        }
      ]
    },
    {
      "cell_type": "code",
      "source": [
        "shape_tensor = tf.constant([[1,2,3],[4,5,6]])\n",
        "print(tf.shape(shape_tensor))"
      ],
      "metadata": {
        "colab": {
          "base_uri": "https://localhost:8080/"
        },
        "id": "w_cYdyK10oRl",
        "outputId": "c728f6e6-dd4a-4373-ed89-ed6c2b5019fb"
      },
      "execution_count": 25,
      "outputs": [
        {
          "output_type": "stream",
          "name": "stdout",
          "text": [
            "tf.Tensor([2 3], shape=(2,), dtype=int32)\n"
          ]
        }
      ]
    },
    {
      "cell_type": "code",
      "source": [
        "# Creating tensors which takes random values\n",
        "random_tensor = tf.random.normal(\n",
        "    shape=[3,4],\n",
        "    mean= 0.0,\n",
        "    stddev = 1.0,\n",
        "    dtype = tf.float32,\n",
        "    seed = None,\n",
        "    name = None\n",
        ")\n",
        "print(random_tensor)\n",
        "# all elements will be near mean\n",
        "# with increase in SD range of elements increases...\n",
        "# like mean = 100 and sd = 10\n",
        "# then maybe 95 to 105 can be elements from...\n",
        "# if mean = 100 sd = 2.5\n",
        "# then it maybe from 98 to 102..."
      ],
      "metadata": {
        "colab": {
          "base_uri": "https://localhost:8080/"
        },
        "id": "-6HPGlmr08o8",
        "outputId": "df4cbd38-8cd9-462c-b832-de439bd53942"
      },
      "execution_count": 26,
      "outputs": [
        {
          "output_type": "stream",
          "name": "stdout",
          "text": [
            "tf.Tensor(\n",
            "[[ 0.92184144  1.2762344   0.06759333 -1.384439  ]\n",
            " [ 1.814457   -0.25994575  0.92927     0.70452774]\n",
            " [ 1.3749666   0.18290964 -0.456279    0.5034326 ]], shape=(3, 4), dtype=float32)\n"
          ]
        }
      ]
    },
    {
      "cell_type": "code",
      "source": [
        "uniform_tensor = tf.random.uniform(\n",
        "    shape=[3,4],\n",
        "    minval= 0,\n",
        "    maxval = 0.5,\n",
        "    dtype = tf.float32,\n",
        "    seed = None,\n",
        "    name = None\n",
        ")\n",
        "print(uniform_tensor)\n",
        "# default maxval is 1\n",
        "# In uniform dist...all values between them have equal prob to get picked...\n",
        "# In normal dist... all values dont have equal prob...values near mean have more prob..."
      ],
      "metadata": {
        "colab": {
          "base_uri": "https://localhost:8080/"
        },
        "id": "DpQP5oTP7_At",
        "outputId": "e386cb9d-8d1b-4aa1-e8fa-261c1dfb2ac3"
      },
      "execution_count": 27,
      "outputs": [
        {
          "output_type": "stream",
          "name": "stdout",
          "text": [
            "tf.Tensor(\n",
            "[[0.19412601 0.24288988 0.1263082  0.39266104]\n",
            " [0.43697888 0.15684909 0.26101995 0.37913102]\n",
            " [0.4588954  0.42804676 0.34699064 0.18920428]], shape=(3, 4), dtype=float32)\n"
          ]
        }
      ]
    },
    {
      "cell_type": "code",
      "source": [
        "tf.random.set_seed(5)\n",
        "print(tf.random.uniform(shape=[3,],maxval=5,dtype=tf.int32,seed=10))\n",
        "print(tf.random.uniform(shape=[3,],maxval=5,dtype=tf.int32,seed=10))\n",
        "print(tf.random.uniform(shape=[3,],maxval=5,dtype=tf.int32,seed=10))\n",
        "print(tf.random.uniform(shape=[3,],maxval=5,dtype=tf.int32,seed=10))"
      ],
      "metadata": {
        "colab": {
          "base_uri": "https://localhost:8080/"
        },
        "id": "iHvgNJAE_GnN",
        "outputId": "73404c08-6d34-48d7-8af4-c7a9445cec95"
      },
      "execution_count": 28,
      "outputs": [
        {
          "output_type": "stream",
          "name": "stdout",
          "text": [
            "tf.Tensor([4 3 1], shape=(3,), dtype=int32)\n",
            "tf.Tensor([4 3 2], shape=(3,), dtype=int32)\n",
            "tf.Tensor([1 1 1], shape=(3,), dtype=int32)\n",
            "tf.Tensor([1 3 3], shape=(3,), dtype=int32)\n"
          ]
        }
      ]
    },
    {
      "cell_type": "code",
      "source": [
        "tf.random.set_seed(5)\n",
        "print(tf.random.uniform(shape=[3,],maxval=5,dtype=tf.int32,seed=10))\n",
        "print(tf.random.uniform(shape=[3,],maxval=5,dtype=tf.int32,seed=10))\n",
        "print(tf.random.uniform(shape=[3,],maxval=5,dtype=tf.int32,seed=10))\n",
        "print(tf.random.uniform(shape=[3,],maxval=5,dtype=tf.int32,seed=10))\n",
        "# same values as upper"
      ],
      "metadata": {
        "colab": {
          "base_uri": "https://localhost:8080/"
        },
        "id": "ST8yrHM8CDWF",
        "outputId": "09e9ffd4-0269-435b-8bf6-4daa47dd7aea"
      },
      "execution_count": 29,
      "outputs": [
        {
          "output_type": "stream",
          "name": "stdout",
          "text": [
            "tf.Tensor([4 3 1], shape=(3,), dtype=int32)\n",
            "tf.Tensor([4 3 2], shape=(3,), dtype=int32)\n",
            "tf.Tensor([1 1 1], shape=(3,), dtype=int32)\n",
            "tf.Tensor([1 3 3], shape=(3,), dtype=int32)\n"
          ]
        }
      ]
    },
    {
      "cell_type": "code",
      "source": [
        "tf.random.set_seed(10)\n",
        "print(tf.random.uniform(shape=[3,],maxval=5,dtype=tf.int32,seed=10))\n",
        "print(tf.random.uniform(shape=[3,],maxval=5,dtype=tf.int32,seed=10))\n",
        "print(tf.random.uniform(shape=[3,],maxval=5,dtype=tf.int32,seed=10))\n",
        "print(tf.random.uniform(shape=[3,],maxval=5,dtype=tf.int32,seed=10))\n",
        "# different"
      ],
      "metadata": {
        "colab": {
          "base_uri": "https://localhost:8080/"
        },
        "id": "y5NlBXi3CFY7",
        "outputId": "e6370186-d92f-4b6b-8a6c-9cac33c6351d"
      },
      "execution_count": 30,
      "outputs": [
        {
          "output_type": "stream",
          "name": "stdout",
          "text": [
            "tf.Tensor([3 4 2], shape=(3,), dtype=int32)\n",
            "tf.Tensor([3 3 3], shape=(3,), dtype=int32)\n",
            "tf.Tensor([0 2 3], shape=(3,), dtype=int32)\n",
            "tf.Tensor([1 3 3], shape=(3,), dtype=int32)\n"
          ]
        }
      ]
    },
    {
      "cell_type": "code",
      "source": [
        "tf.random.set_seed(5)\n",
        "print(tf.random.uniform(shape=[3,],maxval=5,dtype=tf.int32,seed=10))\n",
        "print(tf.random.uniform(shape=[3,],maxval=5,dtype=tf.int32,seed=10))\n",
        "print(tf.random.uniform(shape=[3,],maxval=5,dtype=tf.int32,seed=10))\n",
        "print(tf.random.uniform(shape=[3,],maxval=5,dtype=tf.int32,seed=1))\n",
        "# only last one changed"
      ],
      "metadata": {
        "colab": {
          "base_uri": "https://localhost:8080/"
        },
        "id": "RfRQ_jqMCg5M",
        "outputId": "65f9a030-2a66-4981-cf3c-b3d656935d17"
      },
      "execution_count": 31,
      "outputs": [
        {
          "output_type": "stream",
          "name": "stdout",
          "text": [
            "tf.Tensor([4 3 1], shape=(3,), dtype=int32)\n",
            "tf.Tensor([4 3 2], shape=(3,), dtype=int32)\n",
            "tf.Tensor([1 1 1], shape=(3,), dtype=int32)\n",
            "tf.Tensor([4 1 3], shape=(3,), dtype=int32)\n"
          ]
        }
      ]
    },
    {
      "cell_type": "code",
      "source": [
        "# TENSOR INDEXING\n",
        "tensor_indexed = tf.constant([3,6,2,4,6,66,7])\n",
        "print(tensor_indexed)"
      ],
      "metadata": {
        "colab": {
          "base_uri": "https://localhost:8080/"
        },
        "id": "6Yt0hUplCmpq",
        "outputId": "95f7796a-1c8c-4c89-ba52-3c29d98af7f3"
      },
      "execution_count": 32,
      "outputs": [
        {
          "output_type": "stream",
          "name": "stdout",
          "text": [
            "tf.Tensor([ 3  6  2  4  6 66  7], shape=(7,), dtype=int32)\n"
          ]
        }
      ]
    },
    {
      "cell_type": "code",
      "source": [
        "print(tensor_indexed[:4])"
      ],
      "metadata": {
        "colab": {
          "base_uri": "https://localhost:8080/"
        },
        "id": "TTy4gCuiDAQj",
        "outputId": "6144e379-04e5-4cdb-d559-ee80eb4feaeb"
      },
      "execution_count": 33,
      "outputs": [
        {
          "output_type": "stream",
          "name": "stdout",
          "text": [
            "tf.Tensor([3 6 2 4], shape=(4,), dtype=int32)\n"
          ]
        }
      ]
    },
    {
      "cell_type": "code",
      "source": [
        "print(tf.range(2,6))"
      ],
      "metadata": {
        "colab": {
          "base_uri": "https://localhost:8080/"
        },
        "id": "2MQENXuuDMqH",
        "outputId": "f6bc15a9-e73e-4eb2-a1cc-2c2e41b21830"
      },
      "execution_count": 34,
      "outputs": [
        {
          "output_type": "stream",
          "name": "stdout",
          "text": [
            "tf.Tensor([2 3 4 5], shape=(4,), dtype=int32)\n"
          ]
        }
      ]
    },
    {
      "cell_type": "code",
      "source": [
        "tensor_two_dim = tf.constant([[1,2,3],\n",
        "                              [4,5,6],\n",
        "                              [7,8,9]\n",
        "                        ])\n",
        "print(tensor_two_dim[:,:1])"
      ],
      "metadata": {
        "colab": {
          "base_uri": "https://localhost:8080/"
        },
        "id": "LJcr1RbIDo-u",
        "outputId": "1bc42725-525a-4b18-b762-690b34f71054"
      },
      "execution_count": 35,
      "outputs": [
        {
          "output_type": "stream",
          "name": "stdout",
          "text": [
            "tf.Tensor(\n",
            "[[1]\n",
            " [4]\n",
            " [7]], shape=(3, 1), dtype=int32)\n"
          ]
        }
      ]
    },
    {
      "cell_type": "code",
      "source": [
        "tensor_three_dim = tf.constant([[ [1,2,3], [4,5,6],  [7,8,9] ],\n",
        "                              [[11,12,13], [14,15,16],  [17,18,19]]])\n",
        "print(tensor_three_dim[1,1:3,:])\n",
        "# ... also used for all selection"
      ],
      "metadata": {
        "colab": {
          "base_uri": "https://localhost:8080/"
        },
        "id": "8lc-7nDCEU_d",
        "outputId": "63b4c135-dd96-4bad-c823-88e41f8e57da"
      },
      "execution_count": 36,
      "outputs": [
        {
          "output_type": "stream",
          "name": "stdout",
          "text": [
            "tf.Tensor(\n",
            "[[14 15 16]\n",
            " [17 18 19]], shape=(2, 3), dtype=int32)\n"
          ]
        }
      ]
    },
    {
      "cell_type": "code",
      "source": [
        "# Tensorflow Maths\n",
        "# abs => gives absolute value  => -ve to +ve\n",
        "x_abs = tf.constant([-2.25,3.25])\n",
        "tf.abs(x_abs)"
      ],
      "metadata": {
        "colab": {
          "base_uri": "https://localhost:8080/"
        },
        "id": "Obi8xUqJFQfI",
        "outputId": "079300ac-3bcd-47d4-e9ef-5990fdce0013"
      },
      "execution_count": 37,
      "outputs": [
        {
          "output_type": "execute_result",
          "data": {
            "text/plain": [
              "<tf.Tensor: shape=(2,), dtype=float32, numpy=array([2.25, 3.25], dtype=float32)>"
            ]
          },
          "metadata": {},
          "execution_count": 37
        }
      ]
    },
    {
      "cell_type": "code",
      "source": [
        "x_abs_com = tf.constant([-2.25 + 3.25j])\n",
        "tf.abs(x_abs_com)\n",
        "# complex no abs value => (a^2 + b^2)^(1/2)"
      ],
      "metadata": {
        "colab": {
          "base_uri": "https://localhost:8080/"
        },
        "id": "faUMgF6kUS-x",
        "outputId": "dd9ca022-c6ce-4c92-8a04-e70f73865bdc"
      },
      "execution_count": 38,
      "outputs": [
        {
          "output_type": "execute_result",
          "data": {
            "text/plain": [
              "<tf.Tensor: shape=(1,), dtype=float64, numpy=array([3.95284708])>"
            ]
          },
          "metadata": {},
          "execution_count": 38
        }
      ]
    },
    {
      "cell_type": "code",
      "source": [
        "tf.sqrt(((-2.25)**2) + (3.25**2))"
      ],
      "metadata": {
        "colab": {
          "base_uri": "https://localhost:8080/"
        },
        "id": "wMGWyRemUlwu",
        "outputId": "3f850a67-cc7a-4555-eb05-3851d71b2cd5"
      },
      "execution_count": 39,
      "outputs": [
        {
          "output_type": "execute_result",
          "data": {
            "text/plain": [
              "<tf.Tensor: shape=(), dtype=float32, numpy=3.952847>"
            ]
          },
          "metadata": {},
          "execution_count": 39
        }
      ]
    },
    {
      "cell_type": "code",
      "source": [
        "x_1 = tf.constant([1,2,3,4,5],tf.int64)\n",
        "x_2 = tf.constant([6,7,8,9,10],tf.int64)\n",
        "print(tf.add(x_1,x_2))\n",
        "print(tf.multiply(x_1,x_2))\n",
        "print(tf.subtract(x_1,x_2))\n",
        "print(tf.divide(x_1,x_2))"
      ],
      "metadata": {
        "colab": {
          "base_uri": "https://localhost:8080/"
        },
        "id": "-NZcn7pKVMbE",
        "outputId": "f16b348b-dd76-4178-99f1-a753ae50aa79"
      },
      "execution_count": 40,
      "outputs": [
        {
          "output_type": "stream",
          "name": "stdout",
          "text": [
            "tf.Tensor([ 7  9 11 13 15], shape=(5,), dtype=int64)\n",
            "tf.Tensor([ 6 14 24 36 50], shape=(5,), dtype=int64)\n",
            "tf.Tensor([-5 -5 -5 -5 -5], shape=(5,), dtype=int64)\n",
            "tf.Tensor([0.16666667 0.28571429 0.375      0.44444444 0.5       ], shape=(5,), dtype=float64)\n"
          ]
        }
      ]
    },
    {
      "cell_type": "code",
      "source": [
        "# if there's no num in division...we can use...tf.math.divide_no_nan\n",
        "# cant be tf.int64/32\n",
        "x_1 = tf.constant([1,2,3,4,5],tf.float64)\n",
        "x_2 = tf.constant([6,7,np.NaN,9,10],tf.float64)\n",
        "print(tf.math.divide_no_nan(x_1,x_2))"
      ],
      "metadata": {
        "colab": {
          "base_uri": "https://localhost:8080/"
        },
        "id": "FRI1Bis6VvUD",
        "outputId": "01e3d616-f421-4040-fb7b-cee1e40d753e"
      },
      "execution_count": 41,
      "outputs": [
        {
          "output_type": "stream",
          "name": "stdout",
          "text": [
            "tf.Tensor([0.16666667 0.28571429        nan 0.44444444 0.5       ], shape=(5,), dtype=float64)\n"
          ]
        }
      ]
    },
    {
      "cell_type": "code",
      "source": [
        "# If size of 1 tensor is 1...then it is broadcasted...\n",
        "x_1 = tf.constant([1,2,3,4,5],tf.int64)\n",
        "x_2 = tf.constant([6],tf.int64)\n",
        "print(tf.add(x_1,x_2))\n",
        "print(tf.multiply(x_1,x_2))\n",
        "print(tf.subtract(x_1,x_2))\n",
        "print(tf.divide(x_1,x_2))"
      ],
      "metadata": {
        "colab": {
          "base_uri": "https://localhost:8080/"
        },
        "id": "BE2qy1q9XASz",
        "outputId": "c6e2e74d-2937-40f9-9d80-f20cdf63076c"
      },
      "execution_count": 42,
      "outputs": [
        {
          "output_type": "stream",
          "name": "stdout",
          "text": [
            "tf.Tensor([ 7  8  9 10 11], shape=(5,), dtype=int64)\n",
            "tf.Tensor([ 6 12 18 24 30], shape=(5,), dtype=int64)\n",
            "tf.Tensor([-5 -4 -3 -2 -1], shape=(5,), dtype=int64)\n",
            "tf.Tensor([0.16666667 0.33333333 0.5        0.66666667 0.83333333], shape=(5,), dtype=float64)\n"
          ]
        }
      ]
    },
    {
      "cell_type": "code",
      "source": [
        "x_1 = tf.constant([1,2,3,4,5],tf.int64)\n",
        "x_2 = tf.constant([[6],[7]],tf.int64)\n",
        "print(tf.add(x_1,x_2))\n",
        "# 1 2 3 4 5      6 6 6 6 6\n",
        "#            *\n",
        "# 1 2 3 4 5      7 7 7 7 7\n",
        "# It happened like this..."
      ],
      "metadata": {
        "colab": {
          "base_uri": "https://localhost:8080/"
        },
        "id": "4EPmkSFyYAeS",
        "outputId": "66274484-60a4-42df-cd17-e093544e9ff3"
      },
      "execution_count": 43,
      "outputs": [
        {
          "output_type": "stream",
          "name": "stdout",
          "text": [
            "tf.Tensor(\n",
            "[[ 7  8  9 10 11]\n",
            " [ 8  9 10 11 12]], shape=(2, 5), dtype=int64)\n"
          ]
        }
      ]
    },
    {
      "cell_type": "code",
      "source": [
        "x_1 = tf.constant([1,2,34,4,5],tf.int64)\n",
        "x_2 = tf.constant([6,7,-9,9,3],tf.int64)\n",
        "print(tf.math.maximum(x_1,x_2))\n",
        "print(tf.math.minimum(x_1,x_2))\n",
        "# compares between same indexes and reverses position"
      ],
      "metadata": {
        "colab": {
          "base_uri": "https://localhost:8080/"
        },
        "id": "JnJ4Vdy6Y5mX",
        "outputId": "a3295980-d029-4777-f10b-df66a8cbd6be"
      },
      "execution_count": 44,
      "outputs": [
        {
          "output_type": "stream",
          "name": "stdout",
          "text": [
            "tf.Tensor([ 6  7 34  9  5], shape=(5,), dtype=int64)\n",
            "tf.Tensor([ 1  2 -9  4  3], shape=(5,), dtype=int64)\n"
          ]
        }
      ]
    },
    {
      "cell_type": "code",
      "source": [
        "x_1 = tf.constant([1,2,34,4,5],tf.int64)\n",
        "x_2 = tf.constant([6],tf.int64)\n",
        "print(tf.math.maximum(x_1,x_2))\n",
        "print(tf.math.minimum(x_1,x_2))\n",
        "# yeah broadcastinggg"
      ],
      "metadata": {
        "colab": {
          "base_uri": "https://localhost:8080/"
        },
        "id": "7zSn2hovaW7t",
        "outputId": "4939d1b9-9918-48b8-f8cd-d4393f9ab132"
      },
      "execution_count": 45,
      "outputs": [
        {
          "output_type": "stream",
          "name": "stdout",
          "text": [
            "tf.Tensor([ 6  6 34  6  6], shape=(5,), dtype=int64)\n",
            "tf.Tensor([1 2 6 4 5], shape=(5,), dtype=int64)\n"
          ]
        }
      ]
    },
    {
      "cell_type": "code",
      "source": [
        "x_arg = tf.constant([[1,3,2],[4,5,6],[7,8,9]])\n",
        "print(tf.math.argmax(x_arg),0)\n",
        "print(tf.math.argmin(x_arg),0)\n",
        "# 1 3 2\n",
        "# 4 5 6\n",
        "# 7 8 9\n",
        "# compared cols wise...axis is 0\n",
        "# axis = 1...row wise"
      ],
      "metadata": {
        "colab": {
          "base_uri": "https://localhost:8080/"
        },
        "id": "1APwQ8AIazrG",
        "outputId": "45fa03ba-85c9-48ee-817f-504a6510996d"
      },
      "execution_count": 46,
      "outputs": [
        {
          "output_type": "stream",
          "name": "stdout",
          "text": [
            "tf.Tensor([2 2 2], shape=(3,), dtype=int64) 0\n",
            "tf.Tensor([0 0 0], shape=(3,), dtype=int64) 0\n"
          ]
        }
      ]
    },
    {
      "cell_type": "code",
      "source": [
        "x_arg = tf.constant([[1,3,2],[4,5,6],[7,8,9]])\n",
        "print(tf.math.argmax(x_arg, axis = 1))\n",
        "print(tf.math.argmin(x_arg, axis = 1))"
      ],
      "metadata": {
        "colab": {
          "base_uri": "https://localhost:8080/"
        },
        "id": "RLWED5Sxbgrj",
        "outputId": "15c4fa72-70fa-4117-da11-06f3e3aaf31d"
      },
      "execution_count": 47,
      "outputs": [
        {
          "output_type": "stream",
          "name": "stdout",
          "text": [
            "tf.Tensor([1 2 2], shape=(3,), dtype=int64)\n",
            "tf.Tensor([0 0 0], shape=(3,), dtype=int64)\n"
          ]
        }
      ]
    },
    {
      "cell_type": "code",
      "source": [
        "x_1 = tf.constant([1,2,34,4,5],tf.int64)\n",
        "x_2 = tf.constant([1],tf.int64)\n",
        "print(tf.math.equal(x_1,x_2))\n"
      ],
      "metadata": {
        "colab": {
          "base_uri": "https://localhost:8080/"
        },
        "id": "cTgpfdk2cYVq",
        "outputId": "8def3eb9-fd6c-4f95-a1d1-82a6493c1d76"
      },
      "execution_count": 48,
      "outputs": [
        {
          "output_type": "stream",
          "name": "stdout",
          "text": [
            "tf.Tensor([ True False False False False], shape=(5,), dtype=bool)\n"
          ]
        }
      ]
    },
    {
      "cell_type": "code",
      "source": [
        "print(tf.pow(x_1,x_2))\n",
        "# val to power val of same index in other one"
      ],
      "metadata": {
        "colab": {
          "base_uri": "https://localhost:8080/"
        },
        "id": "317IxVutdK1H",
        "outputId": "42809d1b-a274-4766-f062-6007d28eec87"
      },
      "execution_count": 49,
      "outputs": [
        {
          "output_type": "stream",
          "name": "stdout",
          "text": [
            "tf.Tensor([ 1  2 34  4  5], shape=(5,), dtype=int64)\n"
          ]
        }
      ]
    },
    {
      "cell_type": "code",
      "source": [
        "tensor_two_dim = tf.constant([[1,2,3],\n",
        "                              [4,5,6],\n",
        "                              [7,8,9]\n",
        "                        ],dtype = tf.float64)\n",
        "print(tensor_two_dim)\n",
        "print(tf.math.reduce_sum(tensor_two_dim, axis=None, keepdims=None))\n",
        "print(tf.math.reduce_max(tensor_two_dim, axis=None, keepdims=None))\n",
        "print(tf.math.reduce_min(tensor_two_dim, axis=None, keepdims=None))"
      ],
      "metadata": {
        "id": "0b_lFdutdZln",
        "colab": {
          "base_uri": "https://localhost:8080/"
        },
        "outputId": "d76f7708-d01d-47dc-d7ce-af5fddcebd38"
      },
      "execution_count": 50,
      "outputs": [
        {
          "output_type": "stream",
          "name": "stdout",
          "text": [
            "tf.Tensor(\n",
            "[[1. 2. 3.]\n",
            " [4. 5. 6.]\n",
            " [7. 8. 9.]], shape=(3, 3), dtype=float64)\n",
            "tf.Tensor(45.0, shape=(), dtype=float64)\n",
            "tf.Tensor(9.0, shape=(), dtype=float64)\n",
            "tf.Tensor(1.0, shape=(), dtype=float64)\n"
          ]
        }
      ]
    },
    {
      "cell_type": "code",
      "source": [
        "print(tf.math.reduce_sum(tensor_two_dim, axis=0, keepdims=None))\n",
        "print(tf.math.reduce_sum(tensor_two_dim, axis=1, keepdims=None))\n",
        "print(tf.math.reduce_max(tensor_two_dim, axis=0, keepdims=None))\n",
        "print(tf.math.reduce_max(tensor_two_dim, axis=1, keepdims=None))\n",
        "print(tf.math.reduce_mean(tensor_two_dim, axis=0, keepdims=None))\n",
        "print(tf.math.reduce_mean(tensor_two_dim, axis=1, keepdims=None))\n",
        "print(tf.math.reduce_std(tensor_two_dim, axis=0, keepdims=False))\n",
        "print(tf.math.reduce_std(tensor_two_dim, axis=1, keepdims=None))\n",
        "# If keepdims = True...shape will be same as of input tensor..."
      ],
      "metadata": {
        "colab": {
          "base_uri": "https://localhost:8080/"
        },
        "id": "wKktF8AzEMUb",
        "outputId": "fe6861f7-60af-4a2c-c651-7fe43bc76823"
      },
      "execution_count": 51,
      "outputs": [
        {
          "output_type": "stream",
          "name": "stdout",
          "text": [
            "tf.Tensor([12. 15. 18.], shape=(3,), dtype=float64)\n",
            "tf.Tensor([ 6. 15. 24.], shape=(3,), dtype=float64)\n",
            "tf.Tensor([7. 8. 9.], shape=(3,), dtype=float64)\n",
            "tf.Tensor([3. 6. 9.], shape=(3,), dtype=float64)\n",
            "tf.Tensor([4. 5. 6.], shape=(3,), dtype=float64)\n",
            "tf.Tensor([2. 5. 8.], shape=(3,), dtype=float64)\n",
            "tf.Tensor([2.44948974 2.44948974 2.44948974], shape=(3,), dtype=float64)\n",
            "tf.Tensor([0.81649658 0.81649658 0.81649658], shape=(3,), dtype=float64)\n"
          ]
        }
      ]
    },
    {
      "cell_type": "code",
      "source": [
        "x_1 = tf.constant([1,2,34,4,5],tf.float64)\n",
        "print(tf.math.sigmoid(x_1))\n",
        "# LOGISTIC REGRESSION MAI USE..."
      ],
      "metadata": {
        "colab": {
          "base_uri": "https://localhost:8080/"
        },
        "id": "u-f1Ct9PEz22",
        "outputId": "5d98ee9f-678e-4bf1-9fc5-d3fa97437bac"
      },
      "execution_count": 52,
      "outputs": [
        {
          "output_type": "stream",
          "name": "stdout",
          "text": [
            "tf.Tensor([0.73105858 0.88079708 1.         0.98201379 0.99330715], shape=(5,), dtype=float64)\n"
          ]
        }
      ]
    },
    {
      "cell_type": "code",
      "source": [
        "tf.math.top_k(tensor_two_dim, k=1)\n",
        "# top values / max values first\n",
        "# their indices second..."
      ],
      "metadata": {
        "colab": {
          "base_uri": "https://localhost:8080/"
        },
        "id": "jjvHP-IlHRtP",
        "outputId": "616f548f-1124-47c8-d79c-fbfcb7f1774e"
      },
      "execution_count": 53,
      "outputs": [
        {
          "output_type": "execute_result",
          "data": {
            "text/plain": [
              "TopKV2(values=<tf.Tensor: shape=(3, 1), dtype=float64, numpy=\n",
              "array([[3.],\n",
              "       [6.],\n",
              "       [9.]])>, indices=<tf.Tensor: shape=(3, 1), dtype=int32, numpy=\n",
              "array([[2],\n",
              "       [2],\n",
              "       [2]], dtype=int32)>)"
            ]
          },
          "metadata": {},
          "execution_count": 53
        }
      ]
    },
    {
      "cell_type": "code",
      "source": [
        "tf.math.top_k(tensor_two_dim, k=2)\n",
        "# top values / max values first\n",
        "# their indices second...\n",
        "# k determines no of values..."
      ],
      "metadata": {
        "colab": {
          "base_uri": "https://localhost:8080/"
        },
        "id": "VnnFRoX2ICYI",
        "outputId": "32e5c4e2-db0d-40bd-c9d2-0e875f5b5b98"
      },
      "execution_count": 54,
      "outputs": [
        {
          "output_type": "execute_result",
          "data": {
            "text/plain": [
              "TopKV2(values=<tf.Tensor: shape=(3, 2), dtype=float64, numpy=\n",
              "array([[3., 2.],\n",
              "       [6., 5.],\n",
              "       [9., 8.]])>, indices=<tf.Tensor: shape=(3, 2), dtype=int32, numpy=\n",
              "array([[2, 1],\n",
              "       [2, 1],\n",
              "       [2, 1]], dtype=int32)>)"
            ]
          },
          "metadata": {},
          "execution_count": 54
        }
      ]
    },
    {
      "cell_type": "code",
      "source": [
        "# LINEAR ALGEBRA OPERATIONS::::\n",
        "y_1 = tf.constant([[1,2],[3,4]])\n",
        "y_2 = tf.constant([[1,2],[3,4]])\n",
        "tf.linalg.matmul(y_1,y_2)"
      ],
      "metadata": {
        "colab": {
          "base_uri": "https://localhost:8080/"
        },
        "id": "_ITHelbwIq0q",
        "outputId": "23c4c7d8-1cff-4eb6-9fb4-2f95c9ec4040"
      },
      "execution_count": 55,
      "outputs": [
        {
          "output_type": "execute_result",
          "data": {
            "text/plain": [
              "<tf.Tensor: shape=(2, 2), dtype=int32, numpy=\n",
              "array([[ 7, 10],\n",
              "       [15, 22]], dtype=int32)>"
            ]
          },
          "metadata": {},
          "execution_count": 55
        }
      ]
    },
    {
      "cell_type": "code",
      "source": [
        "print(y_1@y_2)\n",
        "# MATRIX MULTIPLICATION SHORTCUT"
      ],
      "metadata": {
        "colab": {
          "base_uri": "https://localhost:8080/"
        },
        "id": "7Q8yqiq7JYqp",
        "outputId": "57cc4bbc-30ae-4e6d-b031-a7eba047d463"
      },
      "execution_count": 56,
      "outputs": [
        {
          "output_type": "stream",
          "name": "stdout",
          "text": [
            "tf.Tensor(\n",
            "[[ 7 10]\n",
            " [15 22]], shape=(2, 2), dtype=int32)\n"
          ]
        }
      ]
    },
    {
      "cell_type": "code",
      "source": [
        "# TRANSPOSE\n",
        "print(tf.transpose(y_1))"
      ],
      "metadata": {
        "colab": {
          "base_uri": "https://localhost:8080/"
        },
        "id": "zH5Zh_V1J050",
        "outputId": "ec1ce1b1-9cf8-4ea4-e6da-5c23520dc456"
      },
      "execution_count": 57,
      "outputs": [
        {
          "output_type": "stream",
          "name": "stdout",
          "text": [
            "tf.Tensor(\n",
            "[[1 3]\n",
            " [2 4]], shape=(2, 2), dtype=int32)\n"
          ]
        }
      ]
    },
    {
      "cell_type": "code",
      "source": [
        "tensor_three_dim_1 = tf.constant([[ [1,2,3], [4,5,6],  [7,8,9] ],\n",
        "                              [[11,12,13], [14,15,16],  [17,18,19]]])\n",
        "tensor_three_dim_2 = tf.constant([[ [1,2,3], [4,5,6],  [7,8,9] ],\n",
        "                              [[11,12,13], [14,15,16],  [17,18,19]]])\n",
        "print(tensor_three_dim_1@tensor_three_dim_2)\n",
        "# Look corresponding matrix batches to check whether multiplication is possible or not..."
      ],
      "metadata": {
        "colab": {
          "base_uri": "https://localhost:8080/"
        },
        "id": "coFSwx1ZKCeD",
        "outputId": "d2cc67e4-d89a-4f00-ef5c-859a4a748913"
      },
      "execution_count": 58,
      "outputs": [
        {
          "output_type": "stream",
          "name": "stdout",
          "text": [
            "tf.Tensor(\n",
            "[[[ 30  36  42]\n",
            "  [ 66  81  96]\n",
            "  [102 126 150]]\n",
            "\n",
            " [[510 546 582]\n",
            "  [636 681 726]\n",
            "  [762 816 870]]], shape=(2, 3, 3), dtype=int32)\n"
          ]
        }
      ]
    },
    {
      "cell_type": "code",
      "source": [
        "tf.linalg.adjoint(tensor_two_dim)"
      ],
      "metadata": {
        "colab": {
          "base_uri": "https://localhost:8080/"
        },
        "id": "WK5Qsu_8M0AH",
        "outputId": "8364937c-a2a2-442c-c9e5-826fc7c1f28a"
      },
      "execution_count": 59,
      "outputs": [
        {
          "output_type": "execute_result",
          "data": {
            "text/plain": [
              "<tf.Tensor: shape=(3, 3), dtype=float64, numpy=\n",
              "array([[1., 4., 7.],\n",
              "       [2., 5., 8.],\n",
              "       [3., 6., 9.]])>"
            ]
          },
          "metadata": {},
          "execution_count": 59
        }
      ]
    },
    {
      "cell_type": "code",
      "source": [
        "z_1 = tf.constant([[1,2,3],\n",
        "                              [4,5,6],\n",
        "                              [7,8,9]\n",
        "                        ],dtype=tf.float64)\n",
        "z_2 = tf.constant([[1,2,3],\n",
        "                              [4,5,6],\n",
        "                              [7,8,9]\n",
        "                        ],dtype = tf.float64)\n",
        "tf.linalg.cross(z_1,z_2)"
      ],
      "metadata": {
        "colab": {
          "base_uri": "https://localhost:8080/"
        },
        "id": "jLSSXFlQQ5jW",
        "outputId": "329dc4af-8af8-4281-c433-40928e27fa64"
      },
      "execution_count": 60,
      "outputs": [
        {
          "output_type": "execute_result",
          "data": {
            "text/plain": [
              "<tf.Tensor: shape=(3, 3), dtype=float64, numpy=\n",
              "array([[0., 0., 0.],\n",
              "       [0., 0., 0.],\n",
              "       [0., 0., 0.]])>"
            ]
          },
          "metadata": {},
          "execution_count": 60
        }
      ]
    },
    {
      "cell_type": "code",
      "source": [
        "tf.linalg.det(z_1)"
      ],
      "metadata": {
        "colab": {
          "base_uri": "https://localhost:8080/"
        },
        "id": "gpGo9DBaRxuM",
        "outputId": "75e32130-4453-43b4-f9f1-e48e841e18f2"
      },
      "execution_count": 61,
      "outputs": [
        {
          "output_type": "execute_result",
          "data": {
            "text/plain": [
              "<tf.Tensor: shape=(), dtype=float64, numpy=6.66133814775094e-16>"
            ]
          },
          "metadata": {},
          "execution_count": 61
        }
      ]
    },
    {
      "cell_type": "code",
      "source": [
        "tf.linalg.inv(z_1)"
      ],
      "metadata": {
        "colab": {
          "base_uri": "https://localhost:8080/"
        },
        "id": "YUxaTt08SRQx",
        "outputId": "22b967c9-b9b7-448c-b4cc-d28531ebab65"
      },
      "execution_count": 62,
      "outputs": [
        {
          "output_type": "execute_result",
          "data": {
            "text/plain": [
              "<tf.Tensor: shape=(3, 3), dtype=float64, numpy=\n",
              "array([[-4.50359963e+15,  9.00719925e+15, -4.50359963e+15],\n",
              "       [ 9.00719925e+15, -1.80143985e+16,  9.00719925e+15],\n",
              "       [-4.50359963e+15,  9.00719925e+15, -4.50359963e+15]])>"
            ]
          },
          "metadata": {},
          "execution_count": 62
        }
      ]
    },
    {
      "cell_type": "code",
      "source": [
        "# einsum same as matmul...\n",
        "A = np.array([[1,2,3],[4,5,6],[7,8,9]])\n",
        "B = np.array([[1,2,3],[4,5,6],[7,8,9]])\n",
        "print(np.matmul(A,B))\n",
        "print(np.einsum(\"ij,jk -> ik\",A,B))"
      ],
      "metadata": {
        "colab": {
          "base_uri": "https://localhost:8080/"
        },
        "id": "gZGYqn1lSnLR",
        "outputId": "30b48ae4-a740-4a9c-ba93-8f71b2ee531b"
      },
      "execution_count": 63,
      "outputs": [
        {
          "output_type": "stream",
          "name": "stdout",
          "text": [
            "[[ 30  36  42]\n",
            " [ 66  81  96]\n",
            " [102 126 150]]\n",
            "[[ 30  36  42]\n",
            " [ 66  81  96]\n",
            " [102 126 150]]\n"
          ]
        }
      ]
    },
    {
      "cell_type": "code",
      "source": [
        "A = np.array([[1,2,3],[4,5,6],[7,8,9]])\n",
        "B = np.array([[1,2,3],[4,5,6],[7,8,9]])\n",
        "print(A*B)\n",
        "print(np.einsum(\"ij,ij -> ij\",A,B))"
      ],
      "metadata": {
        "colab": {
          "base_uri": "https://localhost:8080/"
        },
        "id": "eUq7txlXVlq0",
        "outputId": "4ccd0aa9-b5a1-4640-e23a-1cb06ef65f68"
      },
      "execution_count": 64,
      "outputs": [
        {
          "output_type": "stream",
          "name": "stdout",
          "text": [
            "[[ 1  4  9]\n",
            " [16 25 36]\n",
            " [49 64 81]]\n",
            "[[ 1  4  9]\n",
            " [16 25 36]\n",
            " [49 64 81]]\n"
          ]
        }
      ]
    },
    {
      "cell_type": "code",
      "source": [
        "A = np.array([[1,2,3],[4,5,6],[7,8,9]])\n",
        "B = np.array([[1,2,3],[4,5,6],[7,8,9]])\n",
        "print(A.T)\n",
        "print(np.einsum(\"ij -> ji\",A))"
      ],
      "metadata": {
        "colab": {
          "base_uri": "https://localhost:8080/"
        },
        "id": "8YrE8P2ZXCHo",
        "outputId": "ab4ad610-64ad-4fc0-9e2b-f4dbb78baa97"
      },
      "execution_count": 65,
      "outputs": [
        {
          "output_type": "stream",
          "name": "stdout",
          "text": [
            "[[1 4 7]\n",
            " [2 5 8]\n",
            " [3 6 9]]\n",
            "[[1 4 7]\n",
            " [2 5 8]\n",
            " [3 6 9]]\n"
          ]
        }
      ]
    },
    {
      "cell_type": "code",
      "source": [
        "# FOR 3D MATRICES...\n",
        "c = np.array([[ [1,2,3], [4,5,6],  [7,8,9] ],\n",
        "                              [[11,12,13], [14,15,16],  [17,18,19]]])\n",
        "d = np.array([[ [1,2,3], [4,5,6],  [7,8,9] ],\n",
        "                              [[11,12,13], [14,15,16],  [17,18,19]]])\n",
        "print(np.matmul(c,d))\n",
        "print(np.einsum(\"bij,bjk -> bik\",c,d))"
      ],
      "metadata": {
        "colab": {
          "base_uri": "https://localhost:8080/"
        },
        "id": "b_gBbePbXPPS",
        "outputId": "9d53abe7-6e07-4b7b-c2c7-c09f1796cf29"
      },
      "execution_count": 66,
      "outputs": [
        {
          "output_type": "stream",
          "name": "stdout",
          "text": [
            "[[[ 30  36  42]\n",
            "  [ 66  81  96]\n",
            "  [102 126 150]]\n",
            "\n",
            " [[510 546 582]\n",
            "  [636 681 726]\n",
            "  [762 816 870]]]\n",
            "[[[ 30  36  42]\n",
            "  [ 66  81  96]\n",
            "  [102 126 150]]\n",
            "\n",
            " [[510 546 582]\n",
            "  [636 681 726]\n",
            "  [762 816 870]]]\n"
          ]
        }
      ]
    },
    {
      "cell_type": "code",
      "source": [
        "# SUM\n",
        "c = np.array([[ [1,2,3], [4,5,6],  [7,8,9] ],\n",
        "                              [[11,12,13], [14,15,16],  [17,18,19]]])\n",
        "print(np.sum(c))\n",
        "print(np.einsum(\"bij-> \",c))\n",
        "print(np.sum(c,axis=0))\n",
        "print(np.einsum(\"bij-> ij \",c))"
      ],
      "metadata": {
        "colab": {
          "base_uri": "https://localhost:8080/"
        },
        "id": "dIW1gSGreBOW",
        "outputId": "68b4c908-c777-4215-d0f3-630d299c86b4"
      },
      "execution_count": 67,
      "outputs": [
        {
          "output_type": "stream",
          "name": "stdout",
          "text": [
            "180\n",
            "180\n",
            "[[12 14 16]\n",
            " [18 20 22]\n",
            " [24 26 28]]\n",
            "[[12 14 16]\n",
            " [18 20 22]\n",
            " [24 26 28]]\n"
          ]
        }
      ]
    },
    {
      "cell_type": "code",
      "source": [
        "A = np.random.randn(2,4,4,2) #bcij\n",
        "B = np.random.randn(2,4,4,1) #bcik\n",
        "np.einsum(\"bcij,bcik -> bcjk\",A,B)"
      ],
      "metadata": {
        "colab": {
          "base_uri": "https://localhost:8080/"
        },
        "id": "Z1BRHd5CecVA",
        "outputId": "cb150d3a-a7fc-40bc-ebe1-2b6674ca1cd0"
      },
      "execution_count": 68,
      "outputs": [
        {
          "output_type": "execute_result",
          "data": {
            "text/plain": [
              "array([[[[-2.71185003],\n",
              "         [ 0.75931895]],\n",
              "\n",
              "        [[ 2.93291586],\n",
              "         [ 3.35168181]],\n",
              "\n",
              "        [[ 3.15654758],\n",
              "         [-0.91745478]],\n",
              "\n",
              "        [[-1.49560086],\n",
              "         [ 0.44643616]]],\n",
              "\n",
              "\n",
              "       [[[ 1.18279052],\n",
              "         [-0.61333819]],\n",
              "\n",
              "        [[ 0.82251836],\n",
              "         [-3.99598359]],\n",
              "\n",
              "        [[-0.95203228],\n",
              "         [-0.0613738 ]],\n",
              "\n",
              "        [[ 0.7318565 ],\n",
              "         [-2.12507861]]]])"
            ]
          },
          "metadata": {},
          "execution_count": 68
        }
      ]
    },
    {
      "cell_type": "code",
      "source": [
        "c = np.array([[ [1,2,3], [4,5,6],  [7,8,9] ],\n",
        "                              [[11,12,13], [14,15,16],  [17,18,19]]])\n",
        "print(c.shape)\n",
        "c_expanded = tf.expand_dims(c,axis=0)\n",
        "print(c_expanded)\n",
        "# axis => 0 -> add at first  1-> at 2nd  2 -> at 3rd"
      ],
      "metadata": {
        "colab": {
          "base_uri": "https://localhost:8080/"
        },
        "id": "MIlF3ByEgeP-",
        "outputId": "92d23c58-960a-4e74-aef4-314d6083cbfc"
      },
      "execution_count": 69,
      "outputs": [
        {
          "output_type": "stream",
          "name": "stdout",
          "text": [
            "(2, 3, 3)\n",
            "tf.Tensor(\n",
            "[[[[ 1  2  3]\n",
            "   [ 4  5  6]\n",
            "   [ 7  8  9]]\n",
            "\n",
            "  [[11 12 13]\n",
            "   [14 15 16]\n",
            "   [17 18 19]]]], shape=(1, 2, 3, 3), dtype=int64)\n"
          ]
        }
      ]
    },
    {
      "cell_type": "code",
      "source": [
        "c_squeezed = tf.squeeze(c_expanded, axis=0)\n",
        "print(c_squeezed)"
      ],
      "metadata": {
        "colab": {
          "base_uri": "https://localhost:8080/"
        },
        "id": "6F9bn28bmQDX",
        "outputId": "cced5ac0-b7b7-45a4-b478-b46acd862ff3"
      },
      "execution_count": 70,
      "outputs": [
        {
          "output_type": "stream",
          "name": "stdout",
          "text": [
            "tf.Tensor(\n",
            "[[[ 1  2  3]\n",
            "  [ 4  5  6]\n",
            "  [ 7  8  9]]\n",
            "\n",
            " [[11 12 13]\n",
            "  [14 15 16]\n",
            "  [17 18 19]]], shape=(2, 3, 3), dtype=int64)\n"
          ]
        }
      ]
    },
    {
      "cell_type": "code",
      "source": [
        "a = tf.constant([[1,2,3],[4,5,6]])\n",
        "tf.reshape(a,[6,])"
      ],
      "metadata": {
        "colab": {
          "base_uri": "https://localhost:8080/"
        },
        "id": "hzFYHheRn3cW",
        "outputId": "06f6d1d4-68c5-4a6e-b074-906ea8f9f386"
      },
      "execution_count": 71,
      "outputs": [
        {
          "output_type": "execute_result",
          "data": {
            "text/plain": [
              "<tf.Tensor: shape=(6,), dtype=int32, numpy=array([1, 2, 3, 4, 5, 6], dtype=int32)>"
            ]
          },
          "metadata": {},
          "execution_count": 71
        }
      ]
    },
    {
      "cell_type": "code",
      "source": [
        "tf.reshape(a,[3,2])"
      ],
      "metadata": {
        "colab": {
          "base_uri": "https://localhost:8080/"
        },
        "id": "KOdrWJXqpyfY",
        "outputId": "c407a493-c3ed-4ffd-845f-9d43b5caad32"
      },
      "execution_count": 72,
      "outputs": [
        {
          "output_type": "execute_result",
          "data": {
            "text/plain": [
              "<tf.Tensor: shape=(3, 2), dtype=int32, numpy=\n",
              "array([[1, 2],\n",
              "       [3, 4],\n",
              "       [5, 6]], dtype=int32)>"
            ]
          },
          "metadata": {},
          "execution_count": 72
        }
      ]
    },
    {
      "cell_type": "code",
      "source": [
        "a = tf.constant([[1,2,3,],[4,5,6]])\n",
        "b = tf.constant([[1,2,3],[4,5,6]])\n",
        "tf.concat([a,b],axis=0)"
      ],
      "metadata": {
        "colab": {
          "base_uri": "https://localhost:8080/"
        },
        "id": "c3c5Xzm2qHqH",
        "outputId": "bdd97c3f-e854-46c4-bd0f-d76a842545a7"
      },
      "execution_count": 73,
      "outputs": [
        {
          "output_type": "execute_result",
          "data": {
            "text/plain": [
              "<tf.Tensor: shape=(4, 3), dtype=int32, numpy=\n",
              "array([[1, 2, 3],\n",
              "       [4, 5, 6],\n",
              "       [1, 2, 3],\n",
              "       [4, 5, 6]], dtype=int32)>"
            ]
          },
          "metadata": {},
          "execution_count": 73
        }
      ]
    },
    {
      "cell_type": "code",
      "source": [
        "tf.concat([a,b],axis=1)"
      ],
      "metadata": {
        "colab": {
          "base_uri": "https://localhost:8080/"
        },
        "id": "NnKslEDzqbbM",
        "outputId": "e9bc689d-6383-4752-a33c-19af0cd524fa"
      },
      "execution_count": 74,
      "outputs": [
        {
          "output_type": "execute_result",
          "data": {
            "text/plain": [
              "<tf.Tensor: shape=(2, 6), dtype=int32, numpy=\n",
              "array([[1, 2, 3, 1, 2, 3],\n",
              "       [4, 5, 6, 4, 5, 6]], dtype=int32)>"
            ]
          },
          "metadata": {},
          "execution_count": 74
        }
      ]
    },
    {
      "cell_type": "code",
      "source": [
        "# tf.stack() creates a new axis and adds up...\n",
        "tf.stack([a,b],axis=0)\n",
        "# 2,3 2,3   2,2,3  axis = 0   added at 0 index"
      ],
      "metadata": {
        "colab": {
          "base_uri": "https://localhost:8080/"
        },
        "id": "e9PMODIcq_My",
        "outputId": "8d038811-70ed-496f-a37d-d6272018406b"
      },
      "execution_count": 75,
      "outputs": [
        {
          "output_type": "execute_result",
          "data": {
            "text/plain": [
              "<tf.Tensor: shape=(2, 2, 3), dtype=int32, numpy=\n",
              "array([[[1, 2, 3],\n",
              "        [4, 5, 6]],\n",
              "\n",
              "       [[1, 2, 3],\n",
              "        [4, 5, 6]]], dtype=int32)>"
            ]
          },
          "metadata": {},
          "execution_count": 75
        }
      ]
    },
    {
      "cell_type": "code",
      "source": [
        "tf.stack([a,b],axis=1)\n",
        "# added at index1"
      ],
      "metadata": {
        "colab": {
          "base_uri": "https://localhost:8080/"
        },
        "id": "cpOuMCgPs4Fu",
        "outputId": "82f2ac8a-1a73-4fbd-b874-17c12ad7a9eb"
      },
      "execution_count": 76,
      "outputs": [
        {
          "output_type": "execute_result",
          "data": {
            "text/plain": [
              "<tf.Tensor: shape=(2, 2, 3), dtype=int32, numpy=\n",
              "array([[[1, 2, 3],\n",
              "        [1, 2, 3]],\n",
              "\n",
              "       [[4, 5, 6],\n",
              "        [4, 5, 6]]], dtype=int32)>"
            ]
          },
          "metadata": {},
          "execution_count": 76
        }
      ]
    },
    {
      "cell_type": "code",
      "source": [
        "a = tf.constant([[1,2,3],[4,5,6]])\n",
        "padding = tf.constant([[1,1],[2,2]])\n",
        "print(tf.pad(a,padding,\"CONSTANT\"))\n",
        "print(tf.pad(a,padding,\"REFLECT\"))\n",
        "print(tf.pad(a,padding,\"SYMMETRIC\"))"
      ],
      "metadata": {
        "colab": {
          "base_uri": "https://localhost:8080/"
        },
        "id": "umA2YEKltSaT",
        "outputId": "553c7eb2-fa74-4224-82da-dc5dd9200b0d"
      },
      "execution_count": 78,
      "outputs": [
        {
          "output_type": "stream",
          "name": "stdout",
          "text": [
            "tf.Tensor(\n",
            "[[0 0 0 0 0 0 0]\n",
            " [0 0 1 2 3 0 0]\n",
            " [0 0 4 5 6 0 0]\n",
            " [0 0 0 0 0 0 0]], shape=(4, 7), dtype=int32)\n",
            "tf.Tensor(\n",
            "[[6 5 4 5 6 5 4]\n",
            " [3 2 1 2 3 2 1]\n",
            " [6 5 4 5 6 5 4]\n",
            " [3 2 1 2 3 2 1]], shape=(4, 7), dtype=int32)\n",
            "tf.Tensor(\n",
            "[[2 1 1 2 3 3 2]\n",
            " [2 1 1 2 3 3 2]\n",
            " [5 4 4 5 6 6 5]\n",
            " [5 4 4 5 6 6 5]], shape=(4, 7), dtype=int32)\n"
          ]
        }
      ]
    },
    {
      "cell_type": "code",
      "source": [
        "# tf.gather() => helps in indexing\n",
        "# no negative indexing\n",
        "a = tf.constant([1,2,3,4,5,6])\n",
        "print(a[3].numpy())\n",
        "print(tf.gather(a,3).numpy())\n",
        "print(tf.gather(a,[3,5]).numpy())\n",
        "# axis = 0/1 also there in case more Dim.."
      ],
      "metadata": {
        "colab": {
          "base_uri": "https://localhost:8080/"
        },
        "id": "PZJ8k-QvQs7t",
        "outputId": "bf40108a-c038-416d-b7d0-043baca2896c"
      },
      "execution_count": 83,
      "outputs": [
        {
          "output_type": "stream",
          "name": "stdout",
          "text": [
            "4\n",
            "4\n",
            "[4 6]\n"
          ]
        }
      ]
    },
    {
      "cell_type": "code",
      "source": [
        "# RAGGED TENSORS\n",
        "z = tf.constant([[1,2,3],\n",
        "                   [4,5,6],\n",
        "                   [7,8,9]],dtype=tf.float64)\n",
        "print(z.shape)\n",
        "# Tensors should be rectangular else error\n",
        "# Tensorflow deals with that using dagged tensors...\n",
        "z1 = tf.ragged.constant([[1,2,3],\n",
        "                   [4,],\n",
        "                   [7,8,9,10,3]],dtype=tf.float64)\n",
        "print(z1.shape)\n",
        "# No exact cols so none..."
      ],
      "metadata": {
        "colab": {
          "base_uri": "https://localhost:8080/"
        },
        "id": "NlrtcyThRR-9",
        "outputId": "f691a913-f8f0-461d-d8dc-65bde3b1967b"
      },
      "execution_count": 85,
      "outputs": [
        {
          "output_type": "stream",
          "name": "stdout",
          "text": [
            "(3, 3)\n",
            "(3, None)\n"
          ]
        }
      ]
    },
    {
      "cell_type": "code",
      "source": [
        "# SPARSE TENSORS => Data with many 0s\n",
        "t = tf.sparse.SparseTensor(\n",
        "    indices = [[1,1],[3,4]], values = [11,56], dense_shape = [5,6]\n",
        ")\n",
        "print(tf.sparse.to_dense(t))"
      ],
      "metadata": {
        "colab": {
          "base_uri": "https://localhost:8080/"
        },
        "id": "Tw3Gf9bzUU5p",
        "outputId": "670c53d7-9042-455b-d134-0408f030ca68"
      },
      "execution_count": 86,
      "outputs": [
        {
          "output_type": "stream",
          "name": "stdout",
          "text": [
            "tf.Tensor(\n",
            "[[ 0  0  0  0  0  0]\n",
            " [ 0 11  0  0  0  0]\n",
            " [ 0  0  0  0  0  0]\n",
            " [ 0  0  0  0 56  0]\n",
            " [ 0  0  0  0  0  0]], shape=(5, 6), dtype=int32)\n"
          ]
        }
      ]
    },
    {
      "cell_type": "code",
      "source": [
        "# STRING TENSORS\n",
        "t = tf.constant([\"kyu\",\"hua\",\"aisa\"])\n",
        "print(t)"
      ],
      "metadata": {
        "colab": {
          "base_uri": "https://localhost:8080/"
        },
        "id": "FMhXBvasXpFA",
        "outputId": "09abcc1a-c5b2-4fa5-c6a9-8940e134f5a9"
      },
      "execution_count": 87,
      "outputs": [
        {
          "output_type": "stream",
          "name": "stdout",
          "text": [
            "tf.Tensor([b'kyu' b'hua' b'aisa'], shape=(3,), dtype=string)\n"
          ]
        }
      ]
    },
    {
      "cell_type": "code",
      "source": [
        "tf.strings.join(t)"
      ],
      "metadata": {
        "colab": {
          "base_uri": "https://localhost:8080/"
        },
        "id": "QBmUbdynYEXK",
        "outputId": "fe6b9631-8c9a-4973-ca96-9b94c9960265"
      },
      "execution_count": 88,
      "outputs": [
        {
          "output_type": "execute_result",
          "data": {
            "text/plain": [
              "<tf.Tensor: shape=(), dtype=string, numpy=b'kyuhuaaisa'>"
            ]
          },
          "metadata": {},
          "execution_count": 88
        }
      ]
    },
    {
      "cell_type": "code",
      "source": [
        "# VARIABLES\n",
        "x = tf.constant([1,2,3])\n",
        "x_var = tf.Variable(x,'Var1')\n",
        "print(x_var)"
      ],
      "metadata": {
        "colab": {
          "base_uri": "https://localhost:8080/"
        },
        "id": "vXCqGBKqYRw3",
        "outputId": "d8129aa0-1ea9-4a33-8640-987842fa9b55"
      },
      "execution_count": 90,
      "outputs": [
        {
          "output_type": "stream",
          "name": "stdout",
          "text": [
            "<tf.Variable 'Variable:0' shape=(3,) dtype=int32, numpy=array([1, 2, 3], dtype=int32)>\n"
          ]
        }
      ]
    },
    {
      "cell_type": "code",
      "source": [
        "v = tf.Variable(1)\n",
        "v.assign(2)\n",
        "print(v)"
      ],
      "metadata": {
        "colab": {
          "base_uri": "https://localhost:8080/"
        },
        "id": "WFjIjAzZZf17",
        "outputId": "8efff113-ca48-4ace-95dc-5cc561efccc5"
      },
      "execution_count": 91,
      "outputs": [
        {
          "output_type": "stream",
          "name": "stdout",
          "text": [
            "<tf.Variable 'Variable:0' shape=() dtype=int32, numpy=2>\n"
          ]
        }
      ]
    },
    {
      "cell_type": "code",
      "source": [
        "v.assign_add(5)\n",
        "print(v)"
      ],
      "metadata": {
        "colab": {
          "base_uri": "https://localhost:8080/"
        },
        "id": "sUog2dMnaaDG",
        "outputId": "aa97ae0a-a2f2-42a1-c0ba-15db2273b4c4"
      },
      "execution_count": 93,
      "outputs": [
        {
          "output_type": "stream",
          "name": "stdout",
          "text": [
            "<tf.Variable 'Variable:0' shape=() dtype=int32, numpy=7>\n"
          ]
        }
      ]
    },
    {
      "cell_type": "code",
      "source": [
        "with tf.device('GPU:0'):\n",
        "  x = tf.Variable(0.2)\n",
        "print(x.device)"
      ],
      "metadata": {
        "colab": {
          "base_uri": "https://localhost:8080/"
        },
        "id": "bLm3bbU4ae8O",
        "outputId": "a8db86e3-13aa-462e-b517-a8e6005b6926"
      },
      "execution_count": 97,
      "outputs": [
        {
          "output_type": "stream",
          "name": "stdout",
          "text": [
            "/job:localhost/replica:0/task:0/device:CPU:0\n"
          ]
        }
      ]
    },
    {
      "cell_type": "code",
      "source": [],
      "metadata": {
        "id": "T-vAEqQbbWgK"
      },
      "execution_count": null,
      "outputs": []
    }
  ]
}